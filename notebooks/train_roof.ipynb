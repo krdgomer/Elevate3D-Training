{
  "cells": [
    {
      "cell_type": "code",
      "execution_count": 1,
      "metadata": {
        "colab": {
          "base_uri": "https://localhost:8080/"
        },
        "id": "Urrx1XW0R2XQ",
        "outputId": "ca1de715-eddf-4bde-f854-242c486c236f"
      },
      "outputs": [
        {
          "output_type": "stream",
          "name": "stdout",
          "text": [
            "Mounted at /content/drive\n"
          ]
        }
      ],
      "source": [
        "from google.colab import drive\n",
        "drive.mount('/content/drive')"
      ]
    },
    {
      "cell_type": "code",
      "execution_count": 2,
      "metadata": {
        "colab": {
          "base_uri": "https://localhost:8080/"
        },
        "id": "jQZIMLv3R2XR",
        "outputId": "47fc5116-722d-4345-dfd2-1cbb0dc9c356"
      },
      "outputs": [
        {
          "output_type": "stream",
          "name": "stdout",
          "text": [
            "/content/drive/MyDrive/ProjeDosyalari/Elevate3D-Training\n"
          ]
        }
      ],
      "source": [
        "%cd /content/drive/MyDrive/ProjeDosyalari/Elevate3D-Training/"
      ]
    },
    {
      "cell_type": "code",
      "execution_count": 9,
      "metadata": {
        "colab": {
          "base_uri": "https://localhost:8080/"
        },
        "id": "r3wukkPPR2XR",
        "outputId": "f22495fe-5938-4679-fa80-5fd1227f9894"
      },
      "outputs": [
        {
          "output_type": "stream",
          "name": "stdout",
          "text": [
            "remote: Enumerating objects: 15, done.\u001b[K\n",
            "remote: Counting objects:   6% (1/15)\u001b[K\rremote: Counting objects:  13% (2/15)\u001b[K\rremote: Counting objects:  20% (3/15)\u001b[K\rremote: Counting objects:  26% (4/15)\u001b[K\rremote: Counting objects:  33% (5/15)\u001b[K\rremote: Counting objects:  40% (6/15)\u001b[K\rremote: Counting objects:  46% (7/15)\u001b[K\rremote: Counting objects:  53% (8/15)\u001b[K\rremote: Counting objects:  60% (9/15)\u001b[K\rremote: Counting objects:  66% (10/15)\u001b[K\rremote: Counting objects:  73% (11/15)\u001b[K\rremote: Counting objects:  80% (12/15)\u001b[K\rremote: Counting objects:  86% (13/15)\u001b[K\rremote: Counting objects:  93% (14/15)\u001b[K\rremote: Counting objects: 100% (15/15)\u001b[K\rremote: Counting objects: 100% (15/15), done.\u001b[K\n",
            "remote: Compressing objects:  50% (1/2)\u001b[K\rremote: Compressing objects: 100% (2/2)\u001b[K\rremote: Compressing objects: 100% (2/2), done.\u001b[K\n",
            "remote: Total 8 (delta 6), reused 8 (delta 6), pack-reused 0 (from 0)\u001b[K\n",
            "Unpacking objects:  12% (1/8)\rUnpacking objects:  25% (2/8)\rUnpacking objects:  37% (3/8)\rUnpacking objects:  50% (4/8)\rUnpacking objects:  62% (5/8)\rUnpacking objects:  75% (6/8)\rUnpacking objects:  87% (7/8)\rUnpacking objects: 100% (8/8)\rUnpacking objects: 100% (8/8), 1.26 KiB | 13.00 KiB/s, done.\n",
            "From https://github.com/krdgomer/Elevate3D-Training\n",
            " * branch            main       -> FETCH_HEAD\n",
            "   0016534..d8b412a  main       -> origin/main\n",
            "Updating 0016534..d8b412a\n",
            "Fast-forward\n",
            " src/roof_classification/dataset.py |  8 \u001b[32m+++++\u001b[m\u001b[31m---\u001b[m\n",
            " src/roof_classification/model.py   | 10 \u001b[32m++++++\u001b[m\u001b[31m----\u001b[m\n",
            " src/roof_classification/test.py    |  2 \u001b[32m+\u001b[m\u001b[31m-\u001b[m\n",
            " src/roof_classification/train.py   | 31 \u001b[32m+++++++++++++++++++++++\u001b[m\u001b[31m--------\u001b[m\n",
            " 4 files changed, 35 insertions(+), 16 deletions(-)\n"
          ]
        }
      ],
      "source": [
        "!git pull origin main"
      ]
    },
    {
      "cell_type": "code",
      "execution_count": 4,
      "metadata": {
        "colab": {
          "base_uri": "https://localhost:8080/"
        },
        "id": "FWZBW95QR2XR",
        "outputId": "efd0dd37-1dd1-4d68-ac9b-674941219dc2"
      },
      "outputs": [
        {
          "output_type": "stream",
          "name": "stdout",
          "text": [
            "/content/drive/MyDrive/ProjeDosyalari/Elevate3D-Training\n"
          ]
        }
      ],
      "source": [
        "import os\n",
        "print(os.getcwd())"
      ]
    },
    {
      "cell_type": "code",
      "execution_count": 5,
      "metadata": {
        "id": "Efm5RYIoR2XS"
      },
      "outputs": [],
      "source": [
        "import sys\n",
        "sys.path.append('/content/drive/MyDrive/ProjeDosyalari/Elevate3D-Training/src')\n",
        "sys.path.append('/content/drive/MyDrive/ProjeDosyalari/Elevate3D-Training/src/roof_classification')"
      ]
    },
    {
      "cell_type": "code",
      "execution_count": 10,
      "metadata": {
        "colab": {
          "base_uri": "https://localhost:8080/"
        },
        "id": "sG6qwXXNR2XS",
        "outputId": "e89c7f51-1745-4dd6-b744-6041e9def452"
      },
      "outputs": [
        {
          "output_type": "stream",
          "name": "stdout",
          "text": [
            "/content/drive/MyDrive/ProjeDosyalari/Elevate3D-Training\n",
            "Classes: ['complex', 'flat', 'gable', 'hip', 'pyramid']\n",
            "/usr/local/lib/python3.12/dist-packages/torchvision/models/_utils.py:208: UserWarning: The parameter 'pretrained' is deprecated since 0.13 and may be removed in the future, please use 'weights' instead.\n",
            "  warnings.warn(\n",
            "/usr/local/lib/python3.12/dist-packages/torchvision/models/_utils.py:223: UserWarning: Arguments other than a weight enum or `None` for 'weights' are deprecated since 0.13 and may be removed in the future. The current behavior is equivalent to passing `weights=ResNet50_Weights.IMAGENET1K_V1`. You can also use `weights=ResNet50_Weights.DEFAULT` to get the most up-to-date weights.\n",
            "  warnings.warn(msg)\n",
            "Epoch 1/25 | Train Loss: 0.9756 | Train Acc: 0.6458 | Val Acc: 0.6936\n",
            "Epoch 2/25 | Train Loss: 0.5577 | Train Acc: 0.7954 | Val Acc: 0.7598\n",
            "Epoch 3/25 | Train Loss: 0.4984 | Train Acc: 0.8128 | Val Acc: 0.7843\n",
            "Epoch 4/25 | Train Loss: 0.4338 | Train Acc: 0.8379 | Val Acc: 0.7696\n",
            "Epoch 5/25 | Train Loss: 0.4166 | Train Acc: 0.8431 | Val Acc: 0.7843\n",
            "Epoch 6/25 | Train Loss: 0.3765 | Train Acc: 0.8550 | Val Acc: 0.7745\n",
            "Epoch 7/25 | Train Loss: 0.3776 | Train Acc: 0.8556 | Val Acc: 0.7990\n",
            "Epoch 8/25 | Train Loss: 0.3784 | Train Acc: 0.8544 | Val Acc: 0.7868\n",
            "Epoch 9/25 | Train Loss: 0.3328 | Train Acc: 0.8678 | Val Acc: 0.7696\n",
            "Epoch 10/25 | Train Loss: 0.3315 | Train Acc: 0.8702 | Val Acc: 0.7843\n",
            "Epoch 11/25 | Train Loss: 0.3076 | Train Acc: 0.8815 | Val Acc: 0.7843\n",
            "Epoch 12/25 | Train Loss: 0.2992 | Train Acc: 0.8840 | Val Acc: 0.7917\n",
            "Epoch 13/25 | Train Loss: 0.3101 | Train Acc: 0.8806 | Val Acc: 0.7892\n",
            "Epoch 14/25 | Train Loss: 0.3007 | Train Acc: 0.8858 | Val Acc: 0.7892\n",
            "Epoch 15/25 | Train Loss: 0.2884 | Train Acc: 0.8904 | Val Acc: 0.7941\n",
            "Epoch 16/25 | Train Loss: 0.2749 | Train Acc: 0.8947 | Val Acc: 0.7892\n",
            "Epoch 17/25 | Train Loss: 0.2629 | Train Acc: 0.8986 | Val Acc: 0.8039\n",
            "Epoch 18/25 | Train Loss: 0.2394 | Train Acc: 0.9090 | Val Acc: 0.7990\n",
            "Epoch 19/25 | Train Loss: 0.2324 | Train Acc: 0.9124 | Val Acc: 0.7672\n",
            "Epoch 20/25 | Train Loss: 0.2498 | Train Acc: 0.9047 | Val Acc: 0.8137\n",
            "Epoch 21/25 | Train Loss: 0.2284 | Train Acc: 0.9166 | Val Acc: 0.7868\n",
            "Epoch 22/25 | Train Loss: 0.2225 | Train Acc: 0.9173 | Val Acc: 0.7941\n",
            "Epoch 23/25 | Train Loss: 0.2354 | Train Acc: 0.9102 | Val Acc: 0.7941\n",
            "Epoch 24/25 | Train Loss: 0.2072 | Train Acc: 0.9206 | Val Acc: 0.7721\n",
            "Epoch 25/25 | Train Loss: 0.2020 | Train Acc: 0.9255 | Val Acc: 0.7843\n",
            "Training complete. Best Val Acc: tensor(0.8137, device='cuda:0', dtype=torch.float64)\n"
          ]
        }
      ],
      "source": [
        "%cd /content/drive/MyDrive/ProjeDosyalari/Elevate3D-Training/\n",
        "!python -m src.roof_classification.train"
      ]
    }
  ],
  "metadata": {
    "accelerator": "GPU",
    "colab": {
      "gpuType": "T4",
      "provenance": []
    },
    "kernelspec": {
      "display_name": "Python 3",
      "name": "python3"
    },
    "language_info": {
      "name": "python",
      "version": "3.11.1"
    }
  },
  "nbformat": 4,
  "nbformat_minor": 0
}