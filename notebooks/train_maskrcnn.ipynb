{
  "cells": [
    {
      "cell_type": "code",
      "execution_count": 1,
      "metadata": {
        "colab": {
          "base_uri": "https://localhost:8080/"
        },
        "id": "Urrx1XW0R2XQ",
        "outputId": "fa4b5b1c-a733-4bd5-cb2f-04eaff2e452c"
      },
      "outputs": [
        {
          "output_type": "stream",
          "name": "stdout",
          "text": [
            "Mounted at /content/drive\n"
          ]
        }
      ],
      "source": [
        "from google.colab import drive\n",
        "drive.mount('/content/drive')"
      ]
    },
    {
      "cell_type": "code",
      "execution_count": 10,
      "metadata": {
        "colab": {
          "base_uri": "https://localhost:8080/"
        },
        "id": "jQZIMLv3R2XR",
        "outputId": "275eee01-f602-4e24-bd0f-db2c941869bb"
      },
      "outputs": [
        {
          "output_type": "stream",
          "name": "stdout",
          "text": [
            "/content/drive/MyDrive/ProjeDosyalari/Elevate3D-Training\n"
          ]
        }
      ],
      "source": [
        "%cd /content/drive/MyDrive/ProjeDosyalari/Elevate3D-Training/"
      ]
    },
    {
      "cell_type": "code",
      "execution_count": 15,
      "metadata": {
        "colab": {
          "base_uri": "https://localhost:8080/"
        },
        "id": "r3wukkPPR2XR",
        "outputId": "04d0871b-9184-47b5-c363-35160920126a"
      },
      "outputs": [
        {
          "output_type": "stream",
          "name": "stdout",
          "text": [
            "remote: Enumerating objects: 11, done.\u001b[K\n",
            "remote: Counting objects:   9% (1/11)\u001b[K\rremote: Counting objects:  18% (2/11)\u001b[K\rremote: Counting objects:  27% (3/11)\u001b[K\rremote: Counting objects:  36% (4/11)\u001b[K\rremote: Counting objects:  45% (5/11)\u001b[K\rremote: Counting objects:  54% (6/11)\u001b[K\rremote: Counting objects:  63% (7/11)\u001b[K\rremote: Counting objects:  72% (8/11)\u001b[K\rremote: Counting objects:  81% (9/11)\u001b[K\rremote: Counting objects:  90% (10/11)\u001b[K\rremote: Counting objects: 100% (11/11)\u001b[K\rremote: Counting objects: 100% (11/11), done.\u001b[K\n",
            "remote: Compressing objects:  50% (1/2)\u001b[K\rremote: Compressing objects: 100% (2/2)\u001b[K\rremote: Compressing objects: 100% (2/2), done.\u001b[K\n",
            "remote: Total 6 (delta 4), reused 6 (delta 4), pack-reused 0 (from 0)\u001b[K\n",
            "Unpacking objects:  16% (1/6)\rUnpacking objects:  33% (2/6)\rUnpacking objects:  50% (3/6)\rUnpacking objects:  66% (4/6)\rUnpacking objects:  83% (5/6)\rUnpacking objects: 100% (6/6)\rUnpacking objects: 100% (6/6), 487 bytes | 5.00 KiB/s, done.\n",
            "From https://github.com/krdgomer/Elevate3D-Training\n",
            " * branch            main       -> FETCH_HEAD\n",
            "   5362337..9e4eb10  main       -> origin/main\n",
            "Updating 5362337..9e4eb10\n",
            "Fast-forward\n",
            " src/maskrcnn/training/train.py | 2 \u001b[32m+\u001b[m\u001b[31m-\u001b[m\n",
            " 1 file changed, 1 insertion(+), 1 deletion(-)\n"
          ]
        }
      ],
      "source": [
        "!git pull origin main"
      ]
    },
    {
      "cell_type": "code",
      "execution_count": 16,
      "metadata": {
        "colab": {
          "base_uri": "https://localhost:8080/"
        },
        "id": "FWZBW95QR2XR",
        "outputId": "65327b60-2b4d-4c81-c089-eb331b3dc4df"
      },
      "outputs": [
        {
          "output_type": "stream",
          "name": "stdout",
          "text": [
            "/content/drive/MyDrive/ProjeDosyalari/Elevate3D-Training\n"
          ]
        }
      ],
      "source": [
        "import os\n",
        "print(os.getcwd())"
      ]
    },
    {
      "cell_type": "code",
      "execution_count": 17,
      "metadata": {
        "id": "Efm5RYIoR2XS"
      },
      "outputs": [],
      "source": [
        "import sys\n",
        "sys.path.append('/content/drive/MyDrive/ProjeDosyalari/Elevate3D-Training/src')\n",
        "sys.path.append('/content/drive/MyDrive/ProjeDosyalari/Elevate3D-Training/src/maskrcnn')"
      ]
    },
    {
      "cell_type": "code",
      "execution_count": 19,
      "metadata": {
        "colab": {
          "base_uri": "https://localhost:8080/"
        },
        "id": "sG6qwXXNR2XS",
        "outputId": "cb94ed40-979e-437e-c87a-d1cc4104eb8e"
      },
      "outputs": [
        {
          "output_type": "stream",
          "name": "stdout",
          "text": [
            "/content/drive/MyDrive/ProjeDosyalari/Elevate3D-Training\n",
            "Starting training process...\n",
            "Loading training dataset...\n",
            "Loading validation dataset...\n",
            "Creating dataloaders...\n",
            "/usr/local/lib/python3.11/dist-packages/torch/utils/data/dataloader.py:624: UserWarning: This DataLoader will create 8 worker processes in total. Our suggested max number of worker in current system is 2, which is smaller than what this DataLoader is going to create. Please be aware that excessive worker creation might get DataLoader running slow or even freeze, lower the worker number to avoid potential slowness/freeze if necessary.\n",
            "  warnings.warn(\n",
            "Initializing model...\n",
            "Downloading: \"https://download.pytorch.org/models/resnet50-0676ba61.pth\" to /root/.cache/torch/hub/checkpoints/resnet50-0676ba61.pth\n",
            "100% 97.8M/97.8M [00:00<00:00, 178MB/s]\n",
            "Starting epoch 1/30...\n",
            "Epoch 1/30 - Training: 100% 1127/1127 [21:01<00:00,  1.12s/it, loss=3.78]\n",
            "Epoch 1/30 - Train Loss: 4263.1416\n",
            "Starting validation...\n",
            "Epoch 1/30 - Validation: 100% 141/141 [01:41<00:00,  1.38it/s, loss=1.73]\n",
            "Epoch 1/30 - Validation Loss: 244.3841\n",
            "Starting epoch 2/30...\n",
            "Epoch 2/30 - Training: 100% 1127/1127 [19:26<00:00,  1.03s/it, loss=3.13]\n",
            "Epoch 2/30 - Train Loss: 3530.6479\n",
            "Starting validation...\n",
            "Epoch 2/30 - Validation: 100% 141/141 [01:30<00:00,  1.57it/s, loss=1.59]\n",
            "Epoch 2/30 - Validation Loss: 223.7682\n",
            "Starting epoch 3/30...\n",
            "Epoch 3/30 - Training: 100% 1127/1127 [19:28<00:00,  1.04s/it, loss=2.92]\n",
            "Epoch 3/30 - Train Loss: 3290.5732\n",
            "Starting validation...\n",
            "Epoch 3/30 - Validation: 100% 141/141 [01:28<00:00,  1.59it/s, loss=1.42]\n",
            "Epoch 3/30 - Validation Loss: 199.9745\n",
            "Starting epoch 4/30...\n",
            "Epoch 4/30 - Training: 100% 1127/1127 [19:31<00:00,  1.04s/it, loss=2.78]\n",
            "Epoch 4/30 - Train Loss: 3137.6668\n",
            "Starting validation...\n",
            "Epoch 4/30 - Validation: 100% 141/141 [01:27<00:00,  1.61it/s, loss=1.41]\n",
            "Epoch 4/30 - Validation Loss: 198.4486\n",
            "Starting epoch 5/30...\n",
            "Epoch 5/30 - Training: 100% 1127/1127 [19:28<00:00,  1.04s/it, loss=2.69]\n",
            "Epoch 5/30 - Train Loss: 3032.1960\n",
            "Starting validation...\n",
            "Epoch 5/30 - Validation: 100% 141/141 [01:28<00:00,  1.59it/s, loss=1.37]\n",
            "Epoch 5/30 - Validation Loss: 193.3062\n",
            "Starting epoch 6/30...\n",
            "Epoch 6/30 - Training: 100% 1127/1127 [19:30<00:00,  1.04s/it, loss=2.62]\n",
            "Epoch 6/30 - Train Loss: 2951.2524\n",
            "Starting validation...\n",
            "Epoch 6/30 - Validation: 100% 141/141 [01:27<00:00,  1.60it/s, loss=1.38]\n",
            "Epoch 6/30 - Validation Loss: 194.5674\n",
            "Starting epoch 7/30...\n",
            "Epoch 7/30 - Training: 100% 1127/1127 [19:33<00:00,  1.04s/it, loss=2.56]\n",
            "Epoch 7/30 - Train Loss: 2884.4205\n",
            "Starting validation...\n",
            "Epoch 7/30 - Validation: 100% 141/141 [01:30<00:00,  1.57it/s, loss=1.33]\n",
            "Epoch 7/30 - Validation Loss: 187.8820\n",
            "Starting epoch 8/30...\n",
            "Epoch 8/30 - Training: 100% 1127/1127 [19:35<00:00,  1.04s/it, loss=2.5]\n",
            "Epoch 8/30 - Train Loss: 2813.4286\n",
            "Starting validation...\n",
            "Epoch 8/30 - Validation: 100% 141/141 [01:30<00:00,  1.57it/s, loss=1.37]\n",
            "Epoch 8/30 - Validation Loss: 193.0750\n",
            "Starting epoch 9/30...\n",
            "Epoch 9/30 - Training: 100% 1127/1127 [19:37<00:00,  1.04s/it, loss=2.47]\n",
            "Epoch 9/30 - Train Loss: 2789.1102\n",
            "Starting validation...\n",
            "Epoch 9/30 - Validation: 100% 141/141 [01:29<00:00,  1.58it/s, loss=1.4]\n",
            "Epoch 9/30 - Validation Loss: 198.0391\n",
            "Starting epoch 10/30...\n",
            "Epoch 10/30 - Training: 100% 1127/1127 [19:38<00:00,  1.05s/it, loss=2.44]\n",
            "Epoch 10/30 - Train Loss: 2748.7112\n",
            "Starting validation...\n",
            "Epoch 10/30 - Validation: 100% 141/141 [01:26<00:00,  1.62it/s, loss=1.39]\n",
            "Epoch 10/30 - Validation Loss: 195.6434\n",
            "Starting epoch 11/30...\n",
            "Epoch 11/30 - Training: 100% 1127/1127 [19:37<00:00,  1.05s/it, loss=2.41]\n",
            "Epoch 11/30 - Train Loss: 2711.1258\n",
            "Starting validation...\n",
            "Epoch 11/30 - Validation: 100% 141/141 [01:27<00:00,  1.61it/s, loss=1.36]\n",
            "Epoch 11/30 - Validation Loss: 191.4563\n",
            "Starting epoch 12/30...\n",
            "Epoch 12/30 - Training: 100% 1127/1127 [19:37<00:00,  1.04s/it, loss=2.37]\n",
            "Epoch 12/30 - Train Loss: 2665.7379\n",
            "Starting validation...\n",
            "Epoch 12/30 - Validation: 100% 141/141 [01:28<00:00,  1.59it/s, loss=1.36]\n",
            "Epoch 12/30 - Validation Loss: 192.0148\n",
            "Starting epoch 13/30...\n",
            "Epoch 13/30 - Training: 100% 1127/1127 [19:39<00:00,  1.05s/it, loss=2.32]\n",
            "Epoch 13/30 - Train Loss: 2617.6653\n",
            "Starting validation...\n",
            "Epoch 13/30 - Validation: 100% 141/141 [01:27<00:00,  1.60it/s, loss=1.36]\n",
            "Epoch 13/30 - Validation Loss: 192.0253\n",
            "Starting epoch 14/30...\n",
            "Epoch 14/30 - Training: 100% 1127/1127 [19:37<00:00,  1.04s/it, loss=2.31]\n",
            "Epoch 14/30 - Train Loss: 2607.4709\n",
            "Starting validation...\n",
            "Epoch 14/30 - Validation: 100% 141/141 [01:30<00:00,  1.56it/s, loss=1.34]\n",
            "Epoch 14/30 - Validation Loss: 189.3147\n",
            "Starting epoch 15/30...\n",
            "Epoch 15/30 - Training: 100% 1127/1127 [19:38<00:00,  1.05s/it, loss=2.27]\n",
            "Epoch 15/30 - Train Loss: 2561.8770\n",
            "Starting validation...\n",
            "Epoch 15/30 - Validation: 100% 141/141 [01:29<00:00,  1.57it/s, loss=1.35]\n",
            "Epoch 15/30 - Validation Loss: 189.6830\n",
            "Starting epoch 16/30...\n",
            "Epoch 16/30 - Training: 100% 1127/1127 [19:34<00:00,  1.04s/it, loss=2.23]\n",
            "Epoch 16/30 - Train Loss: 2513.4996\n",
            "Starting validation...\n",
            "Epoch 16/30 - Validation: 100% 141/141 [01:28<00:00,  1.59it/s, loss=1.37]\n",
            "Epoch 16/30 - Validation Loss: 192.5294\n",
            "Starting epoch 17/30...\n",
            "Epoch 17/30 - Training: 100% 1127/1127 [19:41<00:00,  1.05s/it, loss=2.22]\n",
            "Epoch 17/30 - Train Loss: 2507.0287\n",
            "Starting validation...\n",
            "Epoch 17/30 - Validation: 100% 141/141 [01:28<00:00,  1.58it/s, loss=1.33]\n",
            "Epoch 17/30 - Validation Loss: 187.0564\n",
            "Starting epoch 18/30...\n",
            "Epoch 18/30 - Training: 100% 1127/1127 [19:46<00:00,  1.05s/it, loss=2.19]\n",
            "Epoch 18/30 - Train Loss: 2467.8860\n",
            "Starting validation...\n",
            "Epoch 18/30 - Validation: 100% 141/141 [01:31<00:00,  1.55it/s, loss=1.34]\n",
            "Epoch 18/30 - Validation Loss: 189.3861\n",
            "Starting epoch 19/30...\n",
            "Epoch 19/30 - Training: 100% 1127/1127 [19:46<00:00,  1.05s/it, loss=2.18]\n",
            "Epoch 19/30 - Train Loss: 2457.4707\n",
            "Starting validation...\n",
            "Epoch 19/30 - Validation: 100% 141/141 [01:30<00:00,  1.55it/s, loss=1.37]\n",
            "Epoch 19/30 - Validation Loss: 192.6823\n",
            "Starting epoch 20/30...\n",
            "Epoch 20/30 - Training: 100% 1127/1127 [19:44<00:00,  1.05s/it, loss=2.15]\n",
            "Epoch 20/30 - Train Loss: 2417.9548\n",
            "Starting validation...\n",
            "Epoch 20/30 - Validation: 100% 141/141 [01:30<00:00,  1.56it/s, loss=1.46]\n",
            "Epoch 20/30 - Validation Loss: 205.5381\n",
            "Starting epoch 21/30...\n",
            "Epoch 21/30 - Training: 100% 1127/1127 [19:49<00:00,  1.06s/it, loss=2.12]\n",
            "Epoch 21/30 - Train Loss: 2390.1002\n",
            "Starting validation...\n",
            "Epoch 21/30 - Validation: 100% 141/141 [01:29<00:00,  1.58it/s, loss=1.5]\n",
            "Epoch 21/30 - Validation Loss: 211.5577\n",
            "Starting epoch 22/30...\n",
            "Epoch 22/30 - Training: 100% 1127/1127 [19:44<00:00,  1.05s/it, loss=2.12]\n",
            "Epoch 22/30 - Train Loss: 2385.4283\n",
            "Starting validation...\n",
            "Epoch 22/30 - Validation: 100% 141/141 [01:29<00:00,  1.57it/s, loss=1.37]\n",
            "Epoch 22/30 - Validation Loss: 193.1118\n",
            "Starting epoch 23/30...\n",
            "Epoch 23/30 - Training: 100% 1127/1127 [19:45<00:00,  1.05s/it, loss=2.1]\n",
            "Epoch 23/30 - Train Loss: 2363.0853\n",
            "Starting validation...\n",
            "Epoch 23/30 - Validation: 100% 141/141 [01:31<00:00,  1.53it/s, loss=1.37]\n",
            "Epoch 23/30 - Validation Loss: 192.4875\n",
            "Starting epoch 24/30...\n",
            "Epoch 24/30 - Training: 100% 1127/1127 [19:46<00:00,  1.05s/it, loss=2.08]\n",
            "Epoch 24/30 - Train Loss: 2340.9794\n",
            "Starting validation...\n",
            "Epoch 24/30 - Validation: 100% 141/141 [01:29<00:00,  1.58it/s, loss=1.4]\n",
            "Epoch 24/30 - Validation Loss: 197.9281\n",
            "Starting epoch 25/30...\n",
            "Epoch 25/30 - Training: 100% 1127/1127 [19:46<00:00,  1.05s/it, loss=2.04]\n",
            "Epoch 25/30 - Train Loss: 2295.9037\n",
            "Starting validation...\n",
            "Epoch 25/30 - Validation: 100% 141/141 [01:30<00:00,  1.55it/s, loss=1.4]\n",
            "Epoch 25/30 - Validation Loss: 197.0936\n",
            "Starting epoch 26/30...\n",
            "Epoch 26/30 - Training: 100% 1127/1127 [19:46<00:00,  1.05s/it, loss=2.05]\n",
            "Epoch 26/30 - Train Loss: 2308.2985\n",
            "Starting validation...\n",
            "Epoch 26/30 - Validation: 100% 141/141 [01:29<00:00,  1.57it/s, loss=1.45]\n",
            "Epoch 26/30 - Validation Loss: 204.1106\n",
            "Starting epoch 27/30...\n",
            "Epoch 27/30 - Training: 100% 1127/1127 [19:46<00:00,  1.05s/it, loss=2]\n",
            "Epoch 27/30 - Train Loss: 2255.3380\n",
            "Starting validation...\n",
            "Epoch 27/30 - Validation: 100% 141/141 [01:32<00:00,  1.53it/s, loss=1.42]\n",
            "Epoch 27/30 - Validation Loss: 200.5207\n",
            "Starting epoch 28/30...\n",
            "Epoch 28/30 - Training: 100% 1127/1127 [19:49<00:00,  1.06s/it, loss=1.99]\n",
            "Epoch 28/30 - Train Loss: 2241.2167\n",
            "Starting validation...\n",
            "Epoch 28/30 - Validation: 100% 141/141 [01:30<00:00,  1.57it/s, loss=1.4]\n",
            "Epoch 28/30 - Validation Loss: 197.5175\n",
            "Starting epoch 29/30...\n",
            "Epoch 29/30 - Training: 100% 1127/1127 [19:46<00:00,  1.05s/it, loss=1.98]\n",
            "Epoch 29/30 - Train Loss: 2229.1829\n",
            "Starting validation...\n",
            "Epoch 29/30 - Validation: 100% 141/141 [01:29<00:00,  1.58it/s, loss=1.45]\n",
            "Epoch 29/30 - Validation Loss: 204.1959\n",
            "Starting epoch 30/30...\n",
            "Epoch 30/30 - Training: 100% 1127/1127 [19:45<00:00,  1.05s/it, loss=1.98]\n",
            "Epoch 30/30 - Train Loss: 2234.4813\n",
            "Starting validation...\n",
            "Epoch 30/30 - Validation: 100% 141/141 [01:31<00:00,  1.54it/s, loss=1.49]\n",
            "Epoch 30/30 - Validation Loss: 210.1007\n",
            "Saving model...\n",
            "Model saved successfully.\n",
            "Training complete.\n"
          ]
        }
      ],
      "source": [
        "%cd /content/drive/MyDrive/ProjeDosyalari/Elevate3D-Training/\n",
        "!python -m src.maskrcnn.training.train --train_images_path \"/content/drive/MyDrive/ProjeDosyalari/maskrcnn/train/rgb/\" --train_masks_path \"/content/drive/MyDrive/ProjeDosyalari/maskrcnn/train/gti/\" --val_images_path \"/content/drive/MyDrive/ProjeDosyalari/maskrcnn/val/rgb/\" --val_masks_path \"/content/drive/MyDrive/ProjeDosyalari/maskrcnn/val/gti/\" --save_path \"/content/drive/MyDrive/ProjeDosyalari/maskrcnn/models/v0.2/\""
      ]
    }
  ],
  "metadata": {
    "accelerator": "GPU",
    "colab": {
      "gpuType": "T4",
      "provenance": []
    },
    "kernelspec": {
      "display_name": "Python 3",
      "name": "python3"
    },
    "language_info": {
      "name": "python",
      "version": "3.11.1"
    }
  },
  "nbformat": 4,
  "nbformat_minor": 0
}