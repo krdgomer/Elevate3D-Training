{
  "cells": [
    {
      "cell_type": "code",
      "execution_count": 1,
      "metadata": {
        "colab": {
          "base_uri": "https://localhost:8080/"
        },
        "id": "Urrx1XW0R2XQ",
        "outputId": "cc575e5d-7312-4038-b357-edc4d880d697"
      },
      "outputs": [
        {
          "output_type": "stream",
          "name": "stdout",
          "text": [
            "Mounted at /content/drive\n"
          ]
        }
      ],
      "source": [
        "from google.colab import drive\n",
        "drive.mount('/content/drive')"
      ]
    },
    {
      "cell_type": "code",
      "execution_count": 2,
      "metadata": {
        "colab": {
          "base_uri": "https://localhost:8080/"
        },
        "id": "jQZIMLv3R2XR",
        "outputId": "3b409d03-7b2b-4aed-9eaf-fc03fa223bcc"
      },
      "outputs": [
        {
          "output_type": "stream",
          "name": "stdout",
          "text": [
            "/content/drive/MyDrive/ProjeDosyalari/Elevate3D-Training\n"
          ]
        }
      ],
      "source": [
        "%cd /content/drive/MyDrive/ProjeDosyalari/Elevate3D-Training/"
      ]
    },
    {
      "cell_type": "code",
      "execution_count": 7,
      "metadata": {
        "colab": {
          "base_uri": "https://localhost:8080/"
        },
        "id": "r3wukkPPR2XR",
        "outputId": "c154759d-faf6-4b96-8036-bd82a40b4efa"
      },
      "outputs": [
        {
          "output_type": "stream",
          "name": "stdout",
          "text": [
            "remote: Enumerating objects: 11, done.\u001b[K\n",
            "remote: Counting objects:   9% (1/11)\u001b[K\rremote: Counting objects:  18% (2/11)\u001b[K\rremote: Counting objects:  27% (3/11)\u001b[K\rremote: Counting objects:  36% (4/11)\u001b[K\rremote: Counting objects:  45% (5/11)\u001b[K\rremote: Counting objects:  54% (6/11)\u001b[K\rremote: Counting objects:  63% (7/11)\u001b[K\rremote: Counting objects:  72% (8/11)\u001b[K\rremote: Counting objects:  81% (9/11)\u001b[K\rremote: Counting objects:  90% (10/11)\u001b[K\rremote: Counting objects: 100% (11/11)\u001b[K\rremote: Counting objects: 100% (11/11), done.\u001b[K\n",
            "remote: Compressing objects:  50% (1/2)\u001b[K\rremote: Compressing objects: 100% (2/2)\u001b[K\rremote: Compressing objects: 100% (2/2), done.\u001b[K\n",
            "remote: Total 6 (delta 4), reused 6 (delta 4), pack-reused 0 (from 0)\u001b[K\n",
            "Unpacking objects:  16% (1/6)\rUnpacking objects:  33% (2/6)\rUnpacking objects:  50% (3/6)\rUnpacking objects:  66% (4/6)\rUnpacking objects:  83% (5/6)\rUnpacking objects: 100% (6/6)\rUnpacking objects: 100% (6/6), 561 bytes | 9.00 KiB/s, done.\n",
            "From https://github.com/krdgomer/Elevate3D-Training\n",
            " * branch            main       -> FETCH_HEAD\n",
            "   8bca547..816a90c  main       -> origin/main\n",
            "Updating 8bca547..816a90c\n",
            "Fast-forward\n",
            " src/maskrcnn/training/train.py | 30 \u001b[32m+++++++++++\u001b[m\u001b[31m-------------------\u001b[m\n",
            " 1 file changed, 11 insertions(+), 19 deletions(-)\n"
          ]
        }
      ],
      "source": [
        "!git pull origin main"
      ]
    },
    {
      "cell_type": "code",
      "execution_count": 8,
      "metadata": {
        "colab": {
          "base_uri": "https://localhost:8080/"
        },
        "id": "FWZBW95QR2XR",
        "outputId": "faf6a548-ee04-4b8a-8b81-6bbeb766b356"
      },
      "outputs": [
        {
          "output_type": "stream",
          "name": "stdout",
          "text": [
            "/content/drive/MyDrive/ProjeDosyalari/Elevate3D-Training\n"
          ]
        }
      ],
      "source": [
        "import os\n",
        "print(os.getcwd())"
      ]
    },
    {
      "cell_type": "code",
      "execution_count": 9,
      "metadata": {
        "id": "Efm5RYIoR2XS"
      },
      "outputs": [],
      "source": [
        "import sys\n",
        "sys.path.append('/content/drive/MyDrive/ProjeDosyalari/Elevate3D-Training/src')\n",
        "sys.path.append('/content/drive/MyDrive/ProjeDosyalari/Elevate3D-Training/src/maskrcnn')"
      ]
    },
    {
      "cell_type": "code",
      "execution_count": 10,
      "metadata": {
        "colab": {
          "base_uri": "https://localhost:8080/"
        },
        "id": "sG6qwXXNR2XS",
        "outputId": "c05d1d36-3691-405c-bfe2-622f885c6b95"
      },
      "outputs": [
        {
          "output_type": "stream",
          "name": "stdout",
          "text": [
            "/content/drive/MyDrive/ProjeDosyalari/Elevate3D-Training\n",
            "Starting training process...\n",
            "Loading training dataset...\n",
            "Loading validation dataset...\n",
            "Creating dataloaders...\n",
            "/usr/local/lib/python3.11/dist-packages/torch/utils/data/dataloader.py:624: UserWarning: This DataLoader will create 8 worker processes in total. Our suggested max number of worker in current system is 2, which is smaller than what this DataLoader is going to create. Please be aware that excessive worker creation might get DataLoader running slow or even freeze, lower the worker number to avoid potential slowness/freeze if necessary.\n",
            "  warnings.warn(\n",
            "Initializing model...\n",
            "/usr/local/lib/python3.11/dist-packages/torchvision/models/_utils.py:135: UserWarning: Using 'backbone_name' as positional parameter(s) is deprecated since 0.13 and may be removed in the future. Please use keyword parameter(s) instead.\n",
            "  warnings.warn(\n",
            "/usr/local/lib/python3.11/dist-packages/torchvision/models/_utils.py:208: UserWarning: The parameter 'pretrained' is deprecated since 0.13 and may be removed in the future, please use 'weights' instead.\n",
            "  warnings.warn(\n",
            "/usr/local/lib/python3.11/dist-packages/torchvision/models/_utils.py:223: UserWarning: Arguments other than a weight enum or `None` for 'weights' are deprecated since 0.13 and may be removed in the future. The current behavior is equivalent to passing `weights=ResNet101_Weights.IMAGENET1K_V1`. You can also use `weights=ResNet101_Weights.DEFAULT` to get the most up-to-date weights.\n",
            "  warnings.warn(msg)\n",
            "Starting epoch 1/30...\n",
            "Epoch 1/30 - Training: 100% 1127/1127 [24:51<00:00,  1.32s/it, loss=3.82]\n",
            "Epoch 1/30 - Train Loss: 4302.3525\n",
            "Starting validation...\n",
            "Epoch 1/30 - Validation: 100% 141/141 [02:19<00:00,  1.01it/s, loss=1.66]\n",
            "Epoch 1/30 - Validation Loss: 234.3767\n",
            "Starting epoch 2/30...\n",
            "Epoch 2/30 - Training: 100% 1127/1127 [25:10<00:00,  1.34s/it, loss=3.11]\n",
            "Epoch 2/30 - Train Loss: 3507.0542\n",
            "Starting validation...\n",
            "Epoch 2/30 - Validation: 100% 141/141 [01:39<00:00,  1.42it/s, loss=1.46]\n",
            "Epoch 2/30 - Validation Loss: 206.3678\n",
            "Starting epoch 3/30...\n",
            "Epoch 3/30 - Training: 100% 1127/1127 [25:21<00:00,  1.35s/it, loss=2.88]\n",
            "Epoch 3/30 - Train Loss: 3241.8870\n",
            "Starting validation...\n",
            "Epoch 3/30 - Validation: 100% 141/141 [01:39<00:00,  1.42it/s, loss=1.41]\n",
            "Epoch 3/30 - Validation Loss: 199.1106\n",
            "Starting epoch 4/30...\n",
            "Epoch 4/30 - Training: 100% 1127/1127 [25:29<00:00,  1.36s/it, loss=2.73]\n",
            "Epoch 4/30 - Train Loss: 3078.7311\n",
            "Starting validation...\n",
            "Epoch 4/30 - Validation: 100% 141/141 [01:44<00:00,  1.35it/s, loss=1.4]\n",
            "Epoch 4/30 - Validation Loss: 196.9752\n",
            "Starting epoch 5/30...\n",
            "Epoch 5/30 - Training: 100% 1127/1127 [25:32<00:00,  1.36s/it, loss=2.63]\n",
            "Epoch 5/30 - Train Loss: 2969.5828\n",
            "Starting validation...\n",
            "Epoch 5/30 - Validation: 100% 141/141 [01:50<00:00,  1.28it/s, loss=1.42]\n",
            "Epoch 5/30 - Validation Loss: 200.4625\n",
            "Starting epoch 6/30...\n",
            "Epoch 6/30 - Training: 100% 1127/1127 [25:24<00:00,  1.35s/it, loss=2.57]\n",
            "Epoch 6/30 - Train Loss: 2893.0542\n",
            "Starting validation...\n",
            "Epoch 6/30 - Validation: 100% 141/141 [01:43<00:00,  1.37it/s, loss=1.34]\n",
            "Epoch 6/30 - Validation Loss: 188.6982\n",
            "Starting epoch 7/30...\n",
            "Epoch 7/30 - Training: 100% 1127/1127 [25:31<00:00,  1.36s/it, loss=2.5]\n",
            "Epoch 7/30 - Train Loss: 2821.7998\n",
            "Starting validation...\n",
            "Epoch 7/30 - Validation: 100% 141/141 [01:43<00:00,  1.36it/s, loss=1.36]\n",
            "Epoch 7/30 - Validation Loss: 192.3227\n",
            "Starting epoch 8/30...\n",
            "Epoch 8/30 - Training: 100% 1127/1127 [25:49<00:00,  1.38s/it, loss=2.44]\n",
            "Epoch 8/30 - Train Loss: 2746.1797\n",
            "Starting validation...\n",
            "Epoch 8/30 - Validation: 100% 141/141 [01:42<00:00,  1.37it/s, loss=1.32]\n",
            "Epoch 8/30 - Validation Loss: 186.5333\n",
            "Starting epoch 9/30...\n",
            "Epoch 9/30 - Training: 100% 1127/1127 [25:58<00:00,  1.38s/it, loss=2.39]\n",
            "Epoch 9/30 - Train Loss: 2694.5119\n",
            "Starting validation...\n",
            "Epoch 9/30 - Validation: 100% 141/141 [01:47<00:00,  1.31it/s, loss=1.34]\n",
            "Epoch 9/30 - Validation Loss: 189.1635\n",
            "Starting epoch 10/30...\n",
            "Epoch 10/30 - Training: 100% 1127/1127 [25:54<00:00,  1.38s/it, loss=2.34]\n",
            "Epoch 10/30 - Train Loss: 2641.2420\n",
            "Starting validation...\n",
            "Epoch 10/30 - Validation: 100% 141/141 [01:45<00:00,  1.34it/s, loss=1.31]\n",
            "Epoch 10/30 - Validation Loss: 184.4447\n",
            "Starting epoch 11/30...\n",
            "Epoch 11/30 - Training: 100% 1127/1127 [25:48<00:00,  1.37s/it, loss=2.3]\n",
            "Epoch 11/30 - Train Loss: 2587.2566\n",
            "Starting validation...\n",
            "Epoch 11/30 - Validation: 100% 141/141 [01:48<00:00,  1.30it/s, loss=1.37]\n",
            "Epoch 11/30 - Validation Loss: 193.7098\n",
            "Starting epoch 12/30...\n",
            "Epoch 12/30 - Training: 100% 1127/1127 [25:49<00:00,  1.38s/it, loss=2.27]\n",
            "Epoch 12/30 - Train Loss: 2561.8744\n",
            "Starting validation...\n",
            "Epoch 12/30 - Validation: 100% 141/141 [01:43<00:00,  1.36it/s, loss=1.3]\n",
            "Epoch 12/30 - Validation Loss: 183.2568\n",
            "Starting epoch 13/30...\n",
            "Epoch 13/30 - Training: 100% 1127/1127 [25:47<00:00,  1.37s/it, loss=2.24]\n",
            "Epoch 13/30 - Train Loss: 2519.3005\n",
            "Starting validation...\n",
            "Epoch 13/30 - Validation: 100% 141/141 [01:53<00:00,  1.24it/s, loss=1.34]\n",
            "Epoch 13/30 - Validation Loss: 188.7911\n",
            "Starting epoch 14/30...\n",
            "Epoch 14/30 - Training: 100% 1127/1127 [25:45<00:00,  1.37s/it, loss=2.21]\n",
            "Epoch 14/30 - Train Loss: 2492.8250\n",
            "Starting validation...\n",
            "Epoch 14/30 - Validation: 100% 141/141 [01:47<00:00,  1.31it/s, loss=1.36]\n",
            "Epoch 14/30 - Validation Loss: 191.2088\n",
            "Starting epoch 15/30...\n",
            "Epoch 15/30 - Training: 100% 1127/1127 [25:57<00:00,  1.38s/it, loss=2.16]\n",
            "Epoch 15/30 - Train Loss: 2439.8028\n",
            "Starting validation...\n",
            "Epoch 15/30 - Validation: 100% 141/141 [01:51<00:00,  1.26it/s, loss=1.41]\n",
            "Epoch 15/30 - Validation Loss: 198.6086\n",
            "Starting epoch 16/30...\n",
            "Epoch 16/30 - Training: 100% 1127/1127 [26:11<00:00,  1.39s/it, loss=2.13]\n",
            "Epoch 16/30 - Train Loss: 2404.5986\n",
            "Starting validation...\n",
            "Epoch 16/30 - Validation: 100% 141/141 [01:47<00:00,  1.31it/s, loss=1.36]\n",
            "Epoch 16/30 - Validation Loss: 192.4033\n",
            "Starting epoch 17/30...\n",
            "Epoch 17/30 - Training: 100% 1127/1127 [26:16<00:00,  1.40s/it, loss=2.14]\n",
            "Epoch 17/30 - Train Loss: 2408.3724\n",
            "Starting validation...\n",
            "Epoch 17/30 - Validation: 100% 141/141 [01:48<00:00,  1.29it/s, loss=1.4]\n",
            "Epoch 17/30 - Validation Loss: 197.3120\n",
            "Starting epoch 18/30...\n",
            "Epoch 18/30 - Training: 100% 1127/1127 [26:01<00:00,  1.39s/it, loss=2.08]\n",
            "Epoch 18/30 - Train Loss: 2346.7202\n",
            "Starting validation...\n",
            "Epoch 18/30 - Validation: 100% 141/141 [01:44<00:00,  1.35it/s, loss=1.4]\n",
            "Epoch 18/30 - Validation Loss: 197.2840\n",
            "Starting epoch 19/30...\n",
            "Epoch 19/30 - Training: 100% 1127/1127 [26:03<00:00,  1.39s/it, loss=2.07]\n",
            "Epoch 19/30 - Train Loss: 2329.6811\n",
            "Starting validation...\n",
            "Epoch 19/30 - Validation: 100% 141/141 [01:45<00:00,  1.33it/s, loss=1.38]\n",
            "Epoch 19/30 - Validation Loss: 194.4744\n",
            "Starting epoch 20/30...\n",
            "Epoch 20/30 - Training: 100% 1127/1127 [26:01<00:00,  1.39s/it, loss=2.03]\n",
            "Epoch 20/30 - Train Loss: 2286.3250\n",
            "Starting validation...\n",
            "Epoch 20/30 - Validation: 100% 141/141 [01:56<00:00,  1.21it/s, loss=1.42]\n",
            "Epoch 20/30 - Validation Loss: 200.1389\n",
            "Starting epoch 21/30...\n",
            "Epoch 21/30 - Training: 100% 1127/1127 [25:58<00:00,  1.38s/it, loss=2.02]\n",
            "Epoch 21/30 - Train Loss: 2273.7886\n",
            "Starting validation...\n",
            "Epoch 21/30 - Validation: 100% 141/141 [01:46<00:00,  1.32it/s, loss=1.38]\n",
            "Epoch 21/30 - Validation Loss: 194.2657\n",
            "Starting epoch 22/30...\n",
            "Epoch 22/30 - Training: 100% 1127/1127 [25:55<00:00,  1.38s/it, loss=2]\n",
            "Epoch 22/30 - Train Loss: 2258.6362\n",
            "Starting validation...\n",
            "Epoch 22/30 - Validation: 100% 141/141 [01:49<00:00,  1.29it/s, loss=1.54]\n",
            "Epoch 22/30 - Validation Loss: 216.9296\n",
            "Starting epoch 23/30...\n",
            "Epoch 23/30 - Training: 100% 1127/1127 [25:58<00:00,  1.38s/it, loss=1.97]\n",
            "Epoch 23/30 - Train Loss: 2217.7999\n",
            "Starting validation...\n",
            "Epoch 23/30 - Validation: 100% 141/141 [01:47<00:00,  1.32it/s, loss=1.48]\n",
            "Epoch 23/30 - Validation Loss: 208.3466\n",
            "Starting epoch 24/30...\n",
            "Epoch 24/30 - Training: 100% 1127/1127 [26:09<00:00,  1.39s/it, loss=1.99]\n",
            "Epoch 24/30 - Train Loss: 2239.9462\n",
            "Starting validation...\n",
            "Epoch 24/30 - Validation: 100% 141/141 [01:44<00:00,  1.35it/s, loss=1.41]\n",
            "Epoch 24/30 - Validation Loss: 198.6493\n",
            "Starting epoch 25/30...\n",
            "Epoch 25/30 - Training: 100% 1127/1127 [26:05<00:00,  1.39s/it, loss=1.96]\n",
            "Epoch 25/30 - Train Loss: 2207.0972\n",
            "Starting validation...\n",
            "Epoch 25/30 - Validation: 100% 141/141 [01:44<00:00,  1.35it/s, loss=1.45]\n",
            "Epoch 25/30 - Validation Loss: 203.9474\n",
            "Starting epoch 26/30...\n",
            "Epoch 26/30 - Training: 100% 1127/1127 [26:18<00:00,  1.40s/it, loss=1.92]\n",
            "Epoch 26/30 - Train Loss: 2167.0481\n",
            "Starting validation...\n",
            "Epoch 26/30 - Validation: 100% 141/141 [01:46<00:00,  1.32it/s, loss=1.49]\n",
            "Epoch 26/30 - Validation Loss: 210.4502\n",
            "Starting epoch 27/30...\n",
            "Epoch 27/30 - Training: 100% 1127/1127 [26:06<00:00,  1.39s/it, loss=1.87]\n",
            "Epoch 27/30 - Train Loss: 2109.2923\n",
            "Starting validation...\n",
            "Epoch 27/30 - Validation: 100% 141/141 [01:45<00:00,  1.33it/s, loss=1.52]\n",
            "Epoch 27/30 - Validation Loss: 213.9041\n",
            "Starting epoch 28/30...\n",
            "Epoch 28/30 - Training: 100% 1127/1127 [26:15<00:00,  1.40s/it, loss=1.89]\n",
            "Epoch 28/30 - Train Loss: 2132.9946\n",
            "Starting validation...\n",
            "Epoch 28/30 - Validation: 100% 141/141 [01:44<00:00,  1.35it/s, loss=1.52]\n",
            "Epoch 28/30 - Validation Loss: 214.6085\n",
            "Starting epoch 29/30...\n",
            "Epoch 29/30 - Training: 100% 1127/1127 [26:13<00:00,  1.40s/it, loss=1.87]\n",
            "Epoch 29/30 - Train Loss: 2110.4019\n",
            "Starting validation...\n",
            "Epoch 29/30 - Validation: 100% 141/141 [01:46<00:00,  1.32it/s, loss=1.46]\n",
            "Epoch 29/30 - Validation Loss: 206.1985\n",
            "Starting epoch 30/30...\n",
            "Epoch 30/30 - Training: 100% 1127/1127 [26:22<00:00,  1.40s/it, loss=1.87]\n",
            "Epoch 30/30 - Train Loss: 2102.9922\n",
            "Starting validation...\n",
            "Epoch 30/30 - Validation: 100% 141/141 [01:45<00:00,  1.33it/s, loss=1.5]\n",
            "Epoch 30/30 - Validation Loss: 211.6385\n",
            "Saving model...\n",
            "Model saved successfully.\n",
            "Training complete.\n"
          ]
        }
      ],
      "source": [
        "%cd /content/drive/MyDrive/ProjeDosyalari/Elevate3D-Training/\n",
        "!python -m src.maskrcnn.training.train --train_images_path \"/content/drive/MyDrive/ProjeDosyalari/maskrcnn/train/rgb/\" --train_masks_path \"/content/drive/MyDrive/ProjeDosyalari/maskrcnn/train/gti/\" --val_images_path \"/content/drive/MyDrive/ProjeDosyalari/maskrcnn/val/rgb/\" --val_masks_path \"/content/drive/MyDrive/ProjeDosyalari/maskrcnn/val/gti/\" --save_path \"/content/drive/MyDrive/ProjeDosyalari/maskrcnn/models/v0.3/\""
      ]
    }
  ],
  "metadata": {
    "accelerator": "GPU",
    "colab": {
      "gpuType": "T4",
      "provenance": []
    },
    "kernelspec": {
      "display_name": "Python 3",
      "name": "python3"
    },
    "language_info": {
      "name": "python",
      "version": "3.11.1"
    }
  },
  "nbformat": 4,
  "nbformat_minor": 0
}