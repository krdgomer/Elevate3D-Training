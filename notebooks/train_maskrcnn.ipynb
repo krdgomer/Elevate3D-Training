{
  "cells": [
    {
      "cell_type": "code",
      "execution_count": 3,
      "metadata": {
        "id": "Urrx1XW0R2XQ",
        "outputId": "c804c83a-f285-461d-f3e4-ab26350b1b06",
        "colab": {
          "base_uri": "https://localhost:8080/"
        }
      },
      "outputs": [
        {
          "output_type": "stream",
          "name": "stdout",
          "text": [
            "Mounted at /content/drive\n"
          ]
        }
      ],
      "source": [
        "from google.colab import drive\n",
        "drive.mount('/content/drive')"
      ]
    },
    {
      "cell_type": "code",
      "execution_count": 4,
      "metadata": {
        "id": "jQZIMLv3R2XR",
        "outputId": "7fbb04f5-d144-410b-e5bd-81de64542e34",
        "colab": {
          "base_uri": "https://localhost:8080/"
        }
      },
      "outputs": [
        {
          "output_type": "stream",
          "name": "stdout",
          "text": [
            "/content/drive/MyDrive/ProjeDosyalari/Elevate3D\n"
          ]
        }
      ],
      "source": [
        "%cd /content/drive/MyDrive/ProjeDosyalari/Elevate3D/"
      ]
    },
    {
      "cell_type": "code",
      "execution_count": 29,
      "metadata": {
        "id": "r3wukkPPR2XR",
        "outputId": "2a15fd90-98e0-4f29-e17e-ac4a0175b6bf",
        "colab": {
          "base_uri": "https://localhost:8080/"
        }
      },
      "outputs": [
        {
          "output_type": "stream",
          "name": "stdout",
          "text": [
            "remote: Enumerating objects: 18, done.\u001b[K\n",
            "remote: Counting objects:   5% (1/18)\u001b[K\rremote: Counting objects:  11% (2/18)\u001b[K\rremote: Counting objects:  16% (3/18)\u001b[K\rremote: Counting objects:  22% (4/18)\u001b[K\rremote: Counting objects:  27% (5/18)\u001b[K\rremote: Counting objects:  33% (6/18)\u001b[K\rremote: Counting objects:  38% (7/18)\u001b[K\rremote: Counting objects:  44% (8/18)\u001b[K\rremote: Counting objects:  50% (9/18)\u001b[K\rremote: Counting objects:  55% (10/18)\u001b[K\rremote: Counting objects:  61% (11/18)\u001b[K\rremote: Counting objects:  66% (12/18)\u001b[K\rremote: Counting objects:  72% (13/18)\u001b[K\rremote: Counting objects:  77% (14/18)\u001b[K\rremote: Counting objects:  83% (15/18)\u001b[K\rremote: Counting objects:  88% (16/18)\u001b[K\rremote: Counting objects:  94% (17/18)\u001b[K\rremote: Counting objects: 100% (18/18)\u001b[K\rremote: Counting objects: 100% (18/18), done.\u001b[K\n",
            "remote: Compressing objects:  20% (1/5)\u001b[K\rremote: Compressing objects:  40% (2/5)\u001b[K\rremote: Compressing objects:  60% (3/5)\u001b[K\rremote: Compressing objects:  80% (4/5)\u001b[K\rremote: Compressing objects: 100% (5/5)\u001b[K\rremote: Compressing objects: 100% (5/5), done.\u001b[K\n",
            "remote: Total 11 (delta 8), reused 9 (delta 6), pack-reused 0 (from 0)\u001b[K\n",
            "Unpacking objects: 100% (11/11), 860 bytes | 1024 bytes/s, done.\n",
            "From https://github.com/krdgomer/Elevate3D\n",
            " * branch            main       -> FETCH_HEAD\n",
            "   22c9dbb..d613c25  main       -> origin/main\n",
            "Updating 22c9dbb..d613c25\n",
            "Fast-forward\n",
            " src/BATC/training/train.py     | 19 \u001b[32m++\u001b[m\u001b[31m-----------------\u001b[m\n",
            " src/configs/maskrcnn_config.py |  4 \u001b[32m++\u001b[m\u001b[31m--\u001b[m\n",
            " 2 files changed, 4 insertions(+), 19 deletions(-)\n"
          ]
        }
      ],
      "source": [
        "!git pull origin main"
      ]
    },
    {
      "cell_type": "code",
      "execution_count": 30,
      "metadata": {
        "id": "FWZBW95QR2XR",
        "outputId": "2c07625c-c0a0-4ec4-8bda-05e0973564fb",
        "colab": {
          "base_uri": "https://localhost:8080/"
        }
      },
      "outputs": [
        {
          "output_type": "stream",
          "name": "stdout",
          "text": [
            "/content/drive/MyDrive/ProjeDosyalari/Elevate3D\n"
          ]
        }
      ],
      "source": [
        "import os\n",
        "print(os.getcwd())"
      ]
    },
    {
      "cell_type": "code",
      "execution_count": 31,
      "metadata": {
        "id": "Efm5RYIoR2XS"
      },
      "outputs": [],
      "source": [
        "import sys\n",
        "sys.path.append('/content/drive/MyDrive/ProjeDosyalari/Elevate3D/src')\n",
        "sys.path.append('/content/drive/MyDrive/ProjeDosyalari/Elevate3D/src/BATC')"
      ]
    },
    {
      "cell_type": "code",
      "execution_count": 34,
      "metadata": {
        "id": "sG6qwXXNR2XS",
        "outputId": "4f3d34d9-7815-48b0-f0c8-e274f45c0347",
        "colab": {
          "base_uri": "https://localhost:8080/"
        }
      },
      "outputs": [
        {
          "output_type": "stream",
          "name": "stdout",
          "text": [
            "/content/drive/MyDrive/ProjeDosyalari/Elevate3D\n",
            "Starting training process...\n",
            "Loading dataset...\n",
            "Creating dataloaders...\n",
            "/usr/local/lib/python3.11/dist-packages/torch/utils/data/dataloader.py:624: UserWarning: This DataLoader will create 8 worker processes in total. Our suggested max number of worker in current system is 2, which is smaller than what this DataLoader is going to create. Please be aware that excessive worker creation might get DataLoader running slow or even freeze, lower the worker number to avoid potential slowness/freeze if necessary.\n",
            "  warnings.warn(\n",
            "Initializing model...\n",
            "Starting epoch 1/30...\n",
            "Epoch 1/30 - Training: 100% 736/736 [13:11<00:00,  1.07s/it, loss=3.8]\n",
            "Epoch 1/30 - Train Loss: 2796.9063\n",
            "Starting validation...\n",
            "Epoch 1/30 - Validation: 100% 82/82 [00:59<00:00,  1.37it/s, loss=1.64]\n",
            "Epoch 1/30 - Validation Loss: 134.2709\n",
            "Starting epoch 2/30...\n",
            "Epoch 2/30 - Training: 100% 736/736 [13:14<00:00,  1.08s/it, loss=3.12]\n",
            "Epoch 2/30 - Train Loss: 2298.2601\n",
            "Starting validation...\n",
            "Epoch 2/30 - Validation: 100% 82/82 [00:58<00:00,  1.40it/s, loss=1.49]\n",
            "Epoch 2/30 - Validation Loss: 122.2329\n",
            "Starting epoch 3/30...\n",
            "Epoch 3/30 - Training: 100% 736/736 [13:20<00:00,  1.09s/it, loss=2.89]\n",
            "Epoch 3/30 - Train Loss: 2128.2741\n",
            "Starting validation...\n",
            "Epoch 3/30 - Validation: 100% 82/82 [00:57<00:00,  1.42it/s, loss=1.46]\n",
            "Epoch 3/30 - Validation Loss: 119.5898\n",
            "Starting epoch 4/30...\n",
            "Epoch 4/30 - Training: 100% 736/736 [13:22<00:00,  1.09s/it, loss=2.77]\n",
            "Epoch 4/30 - Train Loss: 2037.0759\n",
            "Starting validation...\n",
            "Epoch 4/30 - Validation: 100% 82/82 [00:59<00:00,  1.38it/s, loss=1.4]\n",
            "Epoch 4/30 - Validation Loss: 115.0995\n",
            "Starting epoch 5/30...\n",
            "Epoch 5/30 - Training: 100% 736/736 [13:24<00:00,  1.09s/it, loss=2.69]\n",
            "Epoch 5/30 - Train Loss: 1980.4558\n",
            "Starting validation...\n",
            "Epoch 5/30 - Validation: 100% 82/82 [01:01<00:00,  1.33it/s, loss=1.36]\n",
            "Epoch 5/30 - Validation Loss: 111.4445\n",
            "Starting epoch 6/30...\n",
            "Epoch 6/30 - Training: 100% 736/736 [13:21<00:00,  1.09s/it, loss=2.62]\n",
            "Epoch 6/30 - Train Loss: 1929.5189\n",
            "Starting validation...\n",
            "Epoch 6/30 - Validation: 100% 82/82 [01:03<00:00,  1.30it/s, loss=1.35]\n",
            "Epoch 6/30 - Validation Loss: 110.8523\n",
            "Starting epoch 7/30...\n",
            "Epoch 7/30 - Training: 100% 736/736 [13:23<00:00,  1.09s/it, loss=2.56]\n",
            "Epoch 7/30 - Train Loss: 1886.0242\n",
            "Starting validation...\n",
            "Epoch 7/30 - Validation: 100% 82/82 [01:04<00:00,  1.28it/s, loss=1.33]\n",
            "Epoch 7/30 - Validation Loss: 109.4484\n",
            "Starting epoch 8/30...\n",
            "Epoch 8/30 - Training: 100% 736/736 [13:24<00:00,  1.09s/it, loss=2.52]\n",
            "Epoch 8/30 - Train Loss: 1856.6564\n",
            "Starting validation...\n",
            "Epoch 8/30 - Validation: 100% 82/82 [01:08<00:00,  1.20it/s, loss=1.31]\n",
            "Epoch 8/30 - Validation Loss: 107.0248\n",
            "Starting epoch 9/30...\n",
            "Epoch 9/30 - Training: 100% 736/736 [13:28<00:00,  1.10s/it, loss=2.48]\n",
            "Epoch 9/30 - Train Loss: 1826.0335\n",
            "Starting validation...\n",
            "Epoch 9/30 - Validation: 100% 82/82 [01:00<00:00,  1.35it/s, loss=1.31]\n",
            "Epoch 9/30 - Validation Loss: 107.5912\n",
            "Starting epoch 10/30...\n",
            "Epoch 10/30 - Training: 100% 736/736 [13:24<00:00,  1.09s/it, loss=2.44]\n",
            "Epoch 10/30 - Train Loss: 1797.0557\n",
            "Starting validation...\n",
            "Epoch 10/30 - Validation: 100% 82/82 [00:59<00:00,  1.38it/s, loss=1.29]\n",
            "Epoch 10/30 - Validation Loss: 105.5412\n",
            "Starting epoch 11/30...\n",
            "Epoch 11/30 - Training: 100% 736/736 [13:24<00:00,  1.09s/it, loss=2.41]\n",
            "Epoch 11/30 - Train Loss: 1775.1239\n",
            "Starting validation...\n",
            "Epoch 11/30 - Validation: 100% 82/82 [01:03<00:00,  1.29it/s, loss=1.31]\n",
            "Epoch 11/30 - Validation Loss: 107.4541\n",
            "Starting epoch 12/30...\n",
            "Epoch 12/30 - Training: 100% 736/736 [13:27<00:00,  1.10s/it, loss=2.39]\n",
            "Epoch 12/30 - Train Loss: 1757.9401\n",
            "Starting validation...\n",
            "Epoch 12/30 - Validation: 100% 82/82 [01:00<00:00,  1.35it/s, loss=1.27]\n",
            "Epoch 12/30 - Validation Loss: 103.9401\n",
            "Starting epoch 13/30...\n",
            "Epoch 13/30 - Training: 100% 736/736 [13:26<00:00,  1.10s/it, loss=2.36]\n",
            "Epoch 13/30 - Train Loss: 1735.6384\n",
            "Starting validation...\n",
            "Epoch 13/30 - Validation: 100% 82/82 [00:59<00:00,  1.37it/s, loss=1.32]\n",
            "Epoch 13/30 - Validation Loss: 108.3667\n",
            "Starting epoch 14/30...\n",
            "Epoch 14/30 - Training: 100% 736/736 [13:36<00:00,  1.11s/it, loss=2.33]\n",
            "Epoch 14/30 - Train Loss: 1713.6820\n",
            "Starting validation...\n",
            "Epoch 14/30 - Validation: 100% 82/82 [00:59<00:00,  1.37it/s, loss=1.32]\n",
            "Epoch 14/30 - Validation Loss: 108.6375\n",
            "Starting epoch 15/30...\n",
            "Epoch 15/30 - Training: 100% 736/736 [13:28<00:00,  1.10s/it, loss=2.31]\n",
            "Epoch 15/30 - Train Loss: 1696.9373\n",
            "Starting validation...\n",
            "Epoch 15/30 - Validation: 100% 82/82 [01:00<00:00,  1.35it/s, loss=1.28]\n",
            "Epoch 15/30 - Validation Loss: 105.3421\n",
            "Starting epoch 16/30...\n",
            "Epoch 16/30 - Training: 100% 736/736 [13:26<00:00,  1.10s/it, loss=2.28]\n",
            "Epoch 16/30 - Train Loss: 1680.1133\n",
            "Starting validation...\n",
            "Epoch 16/30 - Validation: 100% 82/82 [00:58<00:00,  1.41it/s, loss=1.29]\n",
            "Epoch 16/30 - Validation Loss: 105.7310\n",
            "Starting epoch 17/30...\n",
            "Epoch 17/30 - Training: 100% 736/736 [13:30<00:00,  1.10s/it, loss=2.26]\n",
            "Epoch 17/30 - Train Loss: 1660.7121\n",
            "Starting validation...\n",
            "Epoch 17/30 - Validation: 100% 82/82 [01:03<00:00,  1.28it/s, loss=1.31]\n",
            "Epoch 17/30 - Validation Loss: 107.7591\n",
            "Starting epoch 18/30...\n",
            "Epoch 18/30 - Training: 100% 736/736 [13:29<00:00,  1.10s/it, loss=2.23]\n",
            "Epoch 18/30 - Train Loss: 1644.5616\n",
            "Starting validation...\n",
            "Epoch 18/30 - Validation: 100% 82/82 [00:58<00:00,  1.40it/s, loss=1.31]\n",
            "Epoch 18/30 - Validation Loss: 107.1750\n",
            "Starting epoch 19/30...\n",
            "Epoch 19/30 - Training: 100% 736/736 [13:29<00:00,  1.10s/it, loss=2.21]\n",
            "Epoch 19/30 - Train Loss: 1628.7761\n",
            "Starting validation...\n",
            "Epoch 19/30 - Validation: 100% 82/82 [01:02<00:00,  1.31it/s, loss=1.32]\n",
            "Epoch 19/30 - Validation Loss: 108.5954\n",
            "Starting epoch 20/30...\n",
            "Epoch 20/30 - Training: 100% 736/736 [13:29<00:00,  1.10s/it, loss=2.19]\n",
            "Epoch 20/30 - Train Loss: 1613.6628\n",
            "Starting validation...\n",
            "Epoch 20/30 - Validation: 100% 82/82 [00:59<00:00,  1.38it/s, loss=1.35]\n",
            "Epoch 20/30 - Validation Loss: 110.3316\n",
            "Starting epoch 21/30...\n",
            "Epoch 21/30 - Training: 100% 736/736 [13:33<00:00,  1.11s/it, loss=2.18]\n",
            "Epoch 21/30 - Train Loss: 1603.7070\n",
            "Starting validation...\n",
            "Epoch 21/30 - Validation: 100% 82/82 [01:01<00:00,  1.33it/s, loss=1.33]\n",
            "Epoch 21/30 - Validation Loss: 109.3140\n",
            "Starting epoch 22/30...\n",
            "Epoch 22/30 - Training: 100% 736/736 [13:29<00:00,  1.10s/it, loss=2.15]\n",
            "Epoch 22/30 - Train Loss: 1583.1210\n",
            "Starting validation...\n",
            "Epoch 22/30 - Validation: 100% 82/82 [00:58<00:00,  1.39it/s, loss=1.31]\n",
            "Epoch 22/30 - Validation Loss: 107.1256\n",
            "Starting epoch 23/30...\n",
            "Epoch 23/30 - Training: 100% 736/736 [13:31<00:00,  1.10s/it, loss=2.13]\n",
            "Epoch 23/30 - Train Loss: 1570.4697\n",
            "Starting validation...\n",
            "Epoch 23/30 - Validation: 100% 82/82 [00:59<00:00,  1.37it/s, loss=1.27]\n",
            "Epoch 23/30 - Validation Loss: 104.2291\n",
            "Starting epoch 24/30...\n",
            "Epoch 24/30 - Training: 100% 736/736 [13:32<00:00,  1.10s/it, loss=2.11]\n",
            "Epoch 24/30 - Train Loss: 1555.9731\n",
            "Starting validation...\n",
            "Epoch 24/30 - Validation: 100% 82/82 [00:58<00:00,  1.40it/s, loss=1.28]\n",
            "Epoch 24/30 - Validation Loss: 104.7945\n",
            "Starting epoch 25/30...\n",
            "Epoch 25/30 - Training: 100% 736/736 [13:30<00:00,  1.10s/it, loss=2.12]\n",
            "Epoch 25/30 - Train Loss: 1557.9392\n",
            "Starting validation...\n",
            "Epoch 25/30 - Validation: 100% 82/82 [01:00<00:00,  1.35it/s, loss=1.33]\n",
            "Epoch 25/30 - Validation Loss: 108.7605\n",
            "Starting epoch 26/30...\n",
            "Epoch 26/30 - Training: 100% 736/736 [13:36<00:00,  1.11s/it, loss=2.08]\n",
            "Epoch 26/30 - Train Loss: 1532.1971\n",
            "Starting validation...\n",
            "Epoch 26/30 - Validation: 100% 82/82 [00:58<00:00,  1.40it/s, loss=1.32]\n",
            "Epoch 26/30 - Validation Loss: 108.1916\n",
            "Starting epoch 27/30...\n",
            "Epoch 27/30 - Training: 100% 736/736 [13:40<00:00,  1.12s/it, loss=2.07]\n",
            "Epoch 27/30 - Train Loss: 1521.1908\n",
            "Starting validation...\n",
            "Epoch 27/30 - Validation: 100% 82/82 [01:00<00:00,  1.36it/s, loss=1.33]\n",
            "Epoch 27/30 - Validation Loss: 108.8343\n",
            "Starting epoch 28/30...\n",
            "Epoch 28/30 - Training: 100% 736/736 [13:34<00:00,  1.11s/it, loss=2.03]\n",
            "Epoch 28/30 - Train Loss: 1496.0355\n",
            "Starting validation...\n",
            "Epoch 28/30 - Validation: 100% 82/82 [01:00<00:00,  1.36it/s, loss=1.31]\n",
            "Epoch 28/30 - Validation Loss: 107.1992\n",
            "Starting epoch 29/30...\n",
            "Epoch 29/30 - Training: 100% 736/736 [13:34<00:00,  1.11s/it, loss=2.02]\n",
            "Epoch 29/30 - Train Loss: 1487.9090\n",
            "Starting validation...\n",
            "Epoch 29/30 - Validation: 100% 82/82 [01:02<00:00,  1.30it/s, loss=1.35]\n",
            "Epoch 29/30 - Validation Loss: 110.7430\n",
            "Starting epoch 30/30...\n",
            "Epoch 30/30 - Training: 100% 736/736 [13:32<00:00,  1.10s/it, loss=2.02]\n",
            "Epoch 30/30 - Train Loss: 1483.6463\n",
            "Starting validation...\n",
            "Epoch 30/30 - Validation: 100% 82/82 [00:58<00:00,  1.40it/s, loss=1.37]\n",
            "Epoch 30/30 - Validation Loss: 112.0116\n",
            "Saving model...\n",
            "Model saved successfully.\n",
            "Training complete.\n"
          ]
        }
      ],
      "source": [
        "%cd /content/drive/MyDrive/ProjeDosyalari/Elevate3D\n",
        "!python -m src.BATC.training.train --images_path \"/content/drive/MyDrive/ProjeDosyalari/maskrcnn/rgb_tiles/\" --masks_path \"/content/drive/MyDrive/ProjeDosyalari/maskrcnn/gti_tiles/\" --save_path \"/content/drive/MyDrive/ProjeDosyalari/maskrcnn/models/v0.1/\""
      ]
    }
  ],
  "metadata": {
    "kernelspec": {
      "display_name": "Python 3",
      "name": "python3"
    },
    "language_info": {
      "name": "python",
      "version": "3.11.1"
    },
    "colab": {
      "provenance": [],
      "gpuType": "T4"
    },
    "accelerator": "GPU"
  },
  "nbformat": 4,
  "nbformat_minor": 0
}